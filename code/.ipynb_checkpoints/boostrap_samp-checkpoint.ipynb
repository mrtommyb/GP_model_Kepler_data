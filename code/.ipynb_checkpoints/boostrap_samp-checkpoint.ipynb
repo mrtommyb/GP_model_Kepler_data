{
 "metadata": {
  "name": "",
  "signature": "sha256:bae2a1bc65b7ff777c5c6ee92c9f9ed54432cd5b17f3b7db36bbc8fddf17bac9"
 },
 "nbformat": 3,
 "nbformat_minor": 0,
 "worksheets": []
}